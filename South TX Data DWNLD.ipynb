{
 "cells": [
  {
   "cell_type": "code",
   "execution_count": 32,
   "id": "80a62014",
   "metadata": {},
   "outputs": [],
   "source": [
    "import pandas as pd\n",
    "import numpy as np\n",
    "from sqlalchemy import create_engine\n",
    "import shooju\n",
    "from shooju import points_serializers as ps\n",
    "from datetime import datetime\n",
    "import plotly.graph_objects as go\n",
    "#!pip install dataframe_image\n",
    "import dataframe_image as dfi\n",
    "from datetime import date\n",
    "from datetime import timedelta"
   ]
  },
  {
   "cell_type": "markdown",
   "id": "e12ce29a",
   "metadata": {},
   "source": [
    "## Download data from Shooju\n"
   ]
  },
  {
   "cell_type": "code",
   "execution_count": 40,
   "id": "796c456a",
   "metadata": {
    "scrolled": false
   },
   "outputs": [],
   "source": [
    "# Get today's date and yesterday's date\n",
    "yesterday = (datetime.now() - timedelta(2)).strftime('%Y-%m-%d')\n",
    "# Import data for prices\n",
    "\n",
    "terminals = ['MEH','MIDSWT','WTICORPUS','WTIECHO','WTINEDER','WTS']\n",
    "terminalnames = ['MEH','MIDSWT','WTI Corpus','WTI Echo','WTI Neder','WTS']\n",
    "for x in (range(len(terminals))):\n",
    "    sj = shooju.Connection(server=\"https://energyaspects.shooju.com\",\n",
    "                           user='debtanu.bandyopadhyay',\n",
    "                           api_key='lOM08aUl15Si5wlUcnD5pym2NRp9bWUCybctuSzJFUx7NZ6IRJPMDIqlEKdPKudNl')\n",
    "\n",
    "    sid= 'sid=users\\\\debtanu.bandyopadhyay\\\\link\\\\settle_prices\\\\'+terminals[x]+'\\\\'\n",
    "    df_table=sj.get_series(sid, max_points=-1, serializer=ps.pd_series)\n",
    "    df_table=pd.DataFrame.from_dict(df_table)\n",
    "\n",
    "    # import data for MTD\n",
    "    sj = shooju.Connection(server=\"https://energyaspects.shooju.com\",\n",
    "                           user='debtanu.bandyopadhyay',\n",
    "                           api_key='lOM08aUl15Si5wlUcnD5pym2NRp9bWUCybctuSzJFUx7NZ6IRJPMDIqlEKdPKudNl')\n",
    "\n",
    "    sid1='sid=users\\\\debtanu.bandyopadhyay\\\\link\\\\MTD\\\\'+terminals[x]+'\\\\'\n",
    "    df_table_MTD=sj.get_series(sid1, max_points=-1, serializer=ps.pd_series)\n",
    "    df_table_MTD=pd.DataFrame.from_dict(df_table_MTD)\n",
    "\n",
    "    # Formatting the downloaded data into the wanted df format\n",
    "    df_table.drop('series_id', axis = 1, inplace = True)\n",
    "    df_table.rename(columns = {'points':'price'}, inplace = True)\n",
    "    df_table.reset_index(inplace = True)\n",
    "    df_table['month'] = df_table['index'].map(str)\n",
    "    df_table['month'] = df_table['month'].str.extract(r'(\\d+\\D+\\d+)', expand=False)\n",
    "    df_table = df_table.set_index('month')\n",
    "\n",
    "    df_table_MTD.drop('series_id', axis = 1, inplace = True)\n",
    "    df_table_MTD.rename(columns = {'points':'MTD'}, inplace = True)\n",
    "    df_table_MTD.reset_index(inplace = True)\n",
    "    df_table_MTD['index'] = df_table_MTD['index'].map(str)\n",
    "    df_table_MTD['index'] = df_table_MTD['index'].str.extract(r'(\\d+\\D+\\d+)', expand=False)\n",
    "    df_table_MTD = df_table_MTD.set_index('index')\n",
    "\n",
    "    df = pd.merge(df_table_MTD, df_table, left_index = True, right_index = True)\n",
    "    df['change'] = df['price'].diff(1)\n",
    "    df = df.set_index('index')\n",
    "    df['Previous'] = df['price'].shift()\n",
    "    df.columns = ['MTD', 'Settle','Change','Previous']\n",
    "    df = df.reindex(columns=['Settle','Previous', 'Change','MTD'])\n",
    "    rows = df.loc[yesterday]\n",
    "    df = pd.DataFrame(rows)\n",
    "    df = df.reset_index()\n",
    "    df.columns = [terminalnames[x],'']\n",
    "\n",
    "#     index_names = {\n",
    "#         \"selector\": \".index_name\",\n",
    "#         \"props\": \"font-style: italic; color: darkgrey; font-weight:normal;\"\n",
    "#     }\n",
    "#     headers = {\n",
    "#         \"selector\": \"th:not(.index_name)\",\n",
    "#         \"props\": \"background-color: #990033; color: white; text-align: Center\",\n",
    "#         \"border\": \"1px solid black\",\n",
    "#         \"width\": \"45px\"\n",
    "#     }\n",
    "#     properties = {\"border\": \"1px solid black\", \"width\": \"45px\", \"text-align\": \"center\"}\n",
    "\n",
    "\n",
    "\n",
    "#     df = df.style.format(precision=2).set_table_styles([index_names, headers]).set_properties(**properties).hide(axis=\"index\")\n",
    "\n",
    "\n",
    "\n",
    "#     display(df)\n",
    "#     dfi.export(df, terminalnames[x]+\".png\")\n"
   ]
  },
  {
   "cell_type": "code",
   "execution_count": 41,
   "id": "0b4156f2",
   "metadata": {},
   "outputs": [
    {
     "data": {
      "text/html": [
       "<div>\n",
       "<style scoped>\n",
       "    .dataframe tbody tr th:only-of-type {\n",
       "        vertical-align: middle;\n",
       "    }\n",
       "\n",
       "    .dataframe tbody tr th {\n",
       "        vertical-align: top;\n",
       "    }\n",
       "\n",
       "    .dataframe thead th {\n",
       "        text-align: right;\n",
       "    }\n",
       "</style>\n",
       "<table border=\"1\" class=\"dataframe\">\n",
       "  <thead>\n",
       "    <tr style=\"text-align: right;\">\n",
       "      <th></th>\n",
       "      <th>WTS</th>\n",
       "      <th></th>\n",
       "    </tr>\n",
       "  </thead>\n",
       "  <tbody>\n",
       "    <tr>\n",
       "      <th>0</th>\n",
       "      <td>Settle</td>\n",
       "      <td>-0.25</td>\n",
       "    </tr>\n",
       "    <tr>\n",
       "      <th>1</th>\n",
       "      <td>Previous</td>\n",
       "      <td>-0.10</td>\n",
       "    </tr>\n",
       "    <tr>\n",
       "      <th>2</th>\n",
       "      <td>Change</td>\n",
       "      <td>-0.15</td>\n",
       "    </tr>\n",
       "    <tr>\n",
       "      <th>3</th>\n",
       "      <td>MTD</td>\n",
       "      <td>0.86</td>\n",
       "    </tr>\n",
       "  </tbody>\n",
       "</table>\n",
       "</div>"
      ],
      "text/plain": [
       "        WTS      \n",
       "0    Settle -0.25\n",
       "1  Previous -0.10\n",
       "2    Change -0.15\n",
       "3       MTD  0.86"
      ]
     },
     "execution_count": 41,
     "metadata": {},
     "output_type": "execute_result"
    }
   ],
   "source": [
    "df"
   ]
  },
  {
   "cell_type": "code",
   "execution_count": null,
   "id": "3ff49ba9",
   "metadata": {},
   "outputs": [],
   "source": []
  }
 ],
 "metadata": {
  "kernelspec": {
   "display_name": "Python 3 (ipykernel)",
   "language": "python",
   "name": "python3"
  },
  "language_info": {
   "codemirror_mode": {
    "name": "ipython",
    "version": 3
   },
   "file_extension": ".py",
   "mimetype": "text/x-python",
   "name": "python",
   "nbconvert_exporter": "python",
   "pygments_lexer": "ipython3",
   "version": "3.9.12"
  }
 },
 "nbformat": 4,
 "nbformat_minor": 5
}
