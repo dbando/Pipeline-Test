{
 "cells": [
  {
   "cell_type": "code",
   "execution_count": 9,
   "id": "80a62014",
   "metadata": {},
   "outputs": [],
   "source": [
    "import pandas as pd\n",
    "import numpy as np\n",
    "from sqlalchemy import create_engine\n",
    "import shooju\n",
    "from shooju import points_serializers as ps\n",
    "from datetime import datetime\n",
    "import plotly.graph_objects as go\n",
    "#!pip install dataframe_image\n",
    "import dataframe_image as dfi\n",
    "from datetime import date\n",
    "from datetime import timedelta"
   ]
  },
  {
   "cell_type": "markdown",
   "id": "e12ce29a",
   "metadata": {},
   "source": [
    "## Corpus"
   ]
  },
  {
   "cell_type": "code",
   "execution_count": 18,
   "id": "796c456a",
   "metadata": {
    "scrolled": false
   },
   "outputs": [
    {
     "name": "stdout",
     "output_type": "stream",
     "text": [
      "2022-09-14\n"
     ]
    },
    {
     "ename": "KeyError",
     "evalue": "datetime.date(2022, 9, 14)",
     "output_type": "error",
     "traceback": [
      "\u001b[1;31m---------------------------------------------------------------------------\u001b[0m",
      "\u001b[1;31mKeyError\u001b[0m                                  Traceback (most recent call last)",
      "Input \u001b[1;32mIn [18]\u001b[0m, in \u001b[0;36m<cell line: 9>\u001b[1;34m()\u001b[0m\n\u001b[0;32m     46\u001b[0m df\u001b[38;5;241m.\u001b[39mcolumns \u001b[38;5;241m=\u001b[39m [\u001b[38;5;124m'\u001b[39m\u001b[38;5;124mMTD\u001b[39m\u001b[38;5;124m'\u001b[39m, \u001b[38;5;124m'\u001b[39m\u001b[38;5;124mSettle\u001b[39m\u001b[38;5;124m'\u001b[39m,\u001b[38;5;124m'\u001b[39m\u001b[38;5;124mChange\u001b[39m\u001b[38;5;124m'\u001b[39m,\u001b[38;5;124m'\u001b[39m\u001b[38;5;124mPrevious\u001b[39m\u001b[38;5;124m'\u001b[39m]\n\u001b[0;32m     47\u001b[0m df \u001b[38;5;241m=\u001b[39m df\u001b[38;5;241m.\u001b[39mreindex(columns\u001b[38;5;241m=\u001b[39m[\u001b[38;5;124m'\u001b[39m\u001b[38;5;124mSettle\u001b[39m\u001b[38;5;124m'\u001b[39m,\u001b[38;5;124m'\u001b[39m\u001b[38;5;124mPrevious\u001b[39m\u001b[38;5;124m'\u001b[39m, \u001b[38;5;124m'\u001b[39m\u001b[38;5;124mChange\u001b[39m\u001b[38;5;124m'\u001b[39m,\u001b[38;5;124m'\u001b[39m\u001b[38;5;124mMTD\u001b[39m\u001b[38;5;124m'\u001b[39m])\n\u001b[1;32m---> 48\u001b[0m rows \u001b[38;5;241m=\u001b[39m \u001b[43mdf\u001b[49m\u001b[38;5;241;43m.\u001b[39;49m\u001b[43mloc\u001b[49m\u001b[43m[\u001b[49m\u001b[43myesterday\u001b[49m\u001b[43m]\u001b[49m\n\u001b[0;32m     49\u001b[0m df \u001b[38;5;241m=\u001b[39m pd\u001b[38;5;241m.\u001b[39mDataFrame(rows)\n\u001b[0;32m     50\u001b[0m df \u001b[38;5;241m=\u001b[39m df\u001b[38;5;241m.\u001b[39mreset_index()\n",
      "File \u001b[1;32m~\\Anaconda3\\lib\\site-packages\\pandas\\core\\indexing.py:967\u001b[0m, in \u001b[0;36m_LocationIndexer.__getitem__\u001b[1;34m(self, key)\u001b[0m\n\u001b[0;32m    964\u001b[0m axis \u001b[38;5;241m=\u001b[39m \u001b[38;5;28mself\u001b[39m\u001b[38;5;241m.\u001b[39maxis \u001b[38;5;129;01mor\u001b[39;00m \u001b[38;5;241m0\u001b[39m\n\u001b[0;32m    966\u001b[0m maybe_callable \u001b[38;5;241m=\u001b[39m com\u001b[38;5;241m.\u001b[39mapply_if_callable(key, \u001b[38;5;28mself\u001b[39m\u001b[38;5;241m.\u001b[39mobj)\n\u001b[1;32m--> 967\u001b[0m \u001b[38;5;28;01mreturn\u001b[39;00m \u001b[38;5;28;43mself\u001b[39;49m\u001b[38;5;241;43m.\u001b[39;49m\u001b[43m_getitem_axis\u001b[49m\u001b[43m(\u001b[49m\u001b[43mmaybe_callable\u001b[49m\u001b[43m,\u001b[49m\u001b[43m \u001b[49m\u001b[43maxis\u001b[49m\u001b[38;5;241;43m=\u001b[39;49m\u001b[43maxis\u001b[49m\u001b[43m)\u001b[49m\n",
      "File \u001b[1;32m~\\Anaconda3\\lib\\site-packages\\pandas\\core\\indexing.py:1202\u001b[0m, in \u001b[0;36m_LocIndexer._getitem_axis\u001b[1;34m(self, key, axis)\u001b[0m\n\u001b[0;32m   1200\u001b[0m \u001b[38;5;66;03m# fall thru to straight lookup\u001b[39;00m\n\u001b[0;32m   1201\u001b[0m \u001b[38;5;28mself\u001b[39m\u001b[38;5;241m.\u001b[39m_validate_key(key, axis)\n\u001b[1;32m-> 1202\u001b[0m \u001b[38;5;28;01mreturn\u001b[39;00m \u001b[38;5;28;43mself\u001b[39;49m\u001b[38;5;241;43m.\u001b[39;49m\u001b[43m_get_label\u001b[49m\u001b[43m(\u001b[49m\u001b[43mkey\u001b[49m\u001b[43m,\u001b[49m\u001b[43m \u001b[49m\u001b[43maxis\u001b[49m\u001b[38;5;241;43m=\u001b[39;49m\u001b[43maxis\u001b[49m\u001b[43m)\u001b[49m\n",
      "File \u001b[1;32m~\\Anaconda3\\lib\\site-packages\\pandas\\core\\indexing.py:1153\u001b[0m, in \u001b[0;36m_LocIndexer._get_label\u001b[1;34m(self, label, axis)\u001b[0m\n\u001b[0;32m   1151\u001b[0m \u001b[38;5;28;01mdef\u001b[39;00m \u001b[38;5;21m_get_label\u001b[39m(\u001b[38;5;28mself\u001b[39m, label, axis: \u001b[38;5;28mint\u001b[39m):\n\u001b[0;32m   1152\u001b[0m     \u001b[38;5;66;03m# GH#5667 this will fail if the label is not present in the axis.\u001b[39;00m\n\u001b[1;32m-> 1153\u001b[0m     \u001b[38;5;28;01mreturn\u001b[39;00m \u001b[38;5;28;43mself\u001b[39;49m\u001b[38;5;241;43m.\u001b[39;49m\u001b[43mobj\u001b[49m\u001b[38;5;241;43m.\u001b[39;49m\u001b[43mxs\u001b[49m\u001b[43m(\u001b[49m\u001b[43mlabel\u001b[49m\u001b[43m,\u001b[49m\u001b[43m \u001b[49m\u001b[43maxis\u001b[49m\u001b[38;5;241;43m=\u001b[39;49m\u001b[43maxis\u001b[49m\u001b[43m)\u001b[49m\n",
      "File \u001b[1;32m~\\Anaconda3\\lib\\site-packages\\pandas\\core\\generic.py:3864\u001b[0m, in \u001b[0;36mNDFrame.xs\u001b[1;34m(self, key, axis, level, drop_level)\u001b[0m\n\u001b[0;32m   3862\u001b[0m             new_index \u001b[38;5;241m=\u001b[39m index[loc]\n\u001b[0;32m   3863\u001b[0m \u001b[38;5;28;01melse\u001b[39;00m:\n\u001b[1;32m-> 3864\u001b[0m     loc \u001b[38;5;241m=\u001b[39m \u001b[43mindex\u001b[49m\u001b[38;5;241;43m.\u001b[39;49m\u001b[43mget_loc\u001b[49m\u001b[43m(\u001b[49m\u001b[43mkey\u001b[49m\u001b[43m)\u001b[49m\n\u001b[0;32m   3866\u001b[0m     \u001b[38;5;28;01mif\u001b[39;00m \u001b[38;5;28misinstance\u001b[39m(loc, np\u001b[38;5;241m.\u001b[39mndarray):\n\u001b[0;32m   3867\u001b[0m         \u001b[38;5;28;01mif\u001b[39;00m loc\u001b[38;5;241m.\u001b[39mdtype \u001b[38;5;241m==\u001b[39m np\u001b[38;5;241m.\u001b[39mbool_:\n",
      "File \u001b[1;32m~\\Anaconda3\\lib\\site-packages\\pandas\\core\\indexes\\datetimes.py:676\u001b[0m, in \u001b[0;36mDatetimeIndex.get_loc\u001b[1;34m(self, key, method, tolerance)\u001b[0m\n\u001b[0;32m    672\u001b[0m     \u001b[38;5;28;01mreturn\u001b[39;00m \u001b[38;5;28mself\u001b[39m\u001b[38;5;241m.\u001b[39mindexer_at_time(key)\n\u001b[0;32m    674\u001b[0m \u001b[38;5;28;01melse\u001b[39;00m:\n\u001b[0;32m    675\u001b[0m     \u001b[38;5;66;03m# unrecognized type\u001b[39;00m\n\u001b[1;32m--> 676\u001b[0m     \u001b[38;5;28;01mraise\u001b[39;00m \u001b[38;5;167;01mKeyError\u001b[39;00m(key)\n\u001b[0;32m    678\u001b[0m \u001b[38;5;28;01mtry\u001b[39;00m:\n\u001b[0;32m    679\u001b[0m     \u001b[38;5;28;01mreturn\u001b[39;00m Index\u001b[38;5;241m.\u001b[39mget_loc(\u001b[38;5;28mself\u001b[39m, key, method, tolerance)\n",
      "\u001b[1;31mKeyError\u001b[0m: datetime.date(2022, 9, 14)"
     ]
    }
   ],
   "source": [
    "# Get today's date and yesterday's date\n",
    "today = date.today()\n",
    "yesterday = today - timedelta(days = 1)\n",
    "print(yesterday)\n",
    "# Import data for prices\n",
    "\n",
    "terminals = ['MEH','MIDSWT','WTICORPUS','WTIECHO','WTINEDER','WTS']\n",
    "terminalnames = ['MEH','MIDSWT','WTI Corpus','WTI Echo','WTI Neder','WTS']\n",
    "for x in (range(len(terminals))):\n",
    "    sj = shooju.Connection(server=\"https://energyaspects.shooju.com\",\n",
    "                           user='debtanu.bandyopadhyay',\n",
    "                           api_key='lOM08aUl15Si5wlUcnD5pym2NRp9bWUCybctuSzJFUx7NZ6IRJPMDIqlEKdPKudNl')\n",
    "\n",
    "    sid= 'sid=users\\\\debtanu.bandyopadhyay\\\\link\\\\settle_prices\\\\'+terminals[x]+'\\\\'\n",
    "    df_table=sj.get_series(sid, max_points=-1, serializer=ps.pd_series)\n",
    "    df_table=pd.DataFrame.from_dict(df_table)\n",
    "\n",
    "    # import data for MTD\n",
    "    sj = shooju.Connection(server=\"https://energyaspects.shooju.com\",\n",
    "                           user='debtanu.bandyopadhyay',\n",
    "                           api_key='lOM08aUl15Si5wlUcnD5pym2NRp9bWUCybctuSzJFUx7NZ6IRJPMDIqlEKdPKudNl')\n",
    "\n",
    "    sid1='sid=users\\\\debtanu.bandyopadhyay\\\\link\\\\MTD\\\\'+terminals[x]+'\\\\'\n",
    "    df_table_MTD=sj.get_series(sid1, max_points=-1, serializer=ps.pd_series)\n",
    "    df_table_MTD=pd.DataFrame.from_dict(df_table_MTD)\n",
    "\n",
    "    # Formatting the downloaded data into the wanted df format\n",
    "    df_table.drop('series_id', axis = 1, inplace = True)\n",
    "    df_table.rename(columns = {'points':'price'}, inplace = True)\n",
    "    df_table.reset_index(inplace = True)\n",
    "    df_table['month'] = df_table['index'].map(str)\n",
    "    df_table['month'] = df_table['month'].str.extract(r'(\\d+\\D+\\d+)', expand=False)\n",
    "    df_table = df_table.set_index('month')\n",
    "\n",
    "    df_table_MTD.drop('series_id', axis = 1, inplace = True)\n",
    "    df_table_MTD.rename(columns = {'points':'MTD'}, inplace = True)\n",
    "    df_table_MTD.reset_index(inplace = True)\n",
    "    df_table_MTD['index'] = df_table_MTD['index'].map(str)\n",
    "    df_table_MTD['index'] = df_table_MTD['index'].str.extract(r'(\\d+\\D+\\d+)', expand=False)\n",
    "    df_table_MTD = df_table_MTD.set_index('index')\n",
    "\n",
    "    df = pd.merge(df_table_MTD, df_table, left_index = True, right_index = True)\n",
    "    df['change'] = df['price'].diff(1)\n",
    "    df = df.set_index('index')\n",
    "    df['Previous'] = df['price'].shift()\n",
    "    df.columns = ['MTD', 'Settle','Change','Previous']\n",
    "    df = df.reindex(columns=['Settle','Previous', 'Change','MTD'])\n",
    "    rows = df.loc[yesterday]\n",
    "    df = pd.DataFrame(rows)\n",
    "    df = df.reset_index()\n",
    "    df.columns = [terminalnames[x],'']\n",
    "\n",
    "    index_names = {\n",
    "        \"selector\": \".index_name\",\n",
    "        \"props\": \"font-style: italic; color: darkgrey; font-weight:normal;\"\n",
    "    }\n",
    "    headers = {\n",
    "        \"selector\": \"th:not(.index_name)\",\n",
    "        \"props\": \"background-color: #990033; color: white; text-align: Center\",\n",
    "        \"border\": \"1px solid black\",\n",
    "        \"width\": \"45px\"\n",
    "    }\n",
    "    properties = {\"border\": \"1px solid black\", \"width\": \"45px\", \"text-align\": \"center\"}\n",
    "\n",
    "\n",
    "\n",
    "    df = df.style.format(precision=2).set_table_styles([index_names, headers]).set_properties(**properties).hide(axis=\"index\")\n",
    "\n",
    "\n",
    "\n",
    "    display(df)\n",
    "    dfi.export(df, terminalnames[x]+\".png\")\n"
   ]
  },
  {
   "cell_type": "code",
   "execution_count": 19,
   "id": "41ad4c42",
   "metadata": {},
   "outputs": [
    {
     "data": {
      "text/html": [
       "<div>\n",
       "<style scoped>\n",
       "    .dataframe tbody tr th:only-of-type {\n",
       "        vertical-align: middle;\n",
       "    }\n",
       "\n",
       "    .dataframe tbody tr th {\n",
       "        vertical-align: top;\n",
       "    }\n",
       "\n",
       "    .dataframe thead th {\n",
       "        text-align: right;\n",
       "    }\n",
       "</style>\n",
       "<table border=\"1\" class=\"dataframe\">\n",
       "  <thead>\n",
       "    <tr style=\"text-align: right;\">\n",
       "      <th></th>\n",
       "      <th>Settle</th>\n",
       "      <th>Previous</th>\n",
       "      <th>Change</th>\n",
       "      <th>MTD</th>\n",
       "    </tr>\n",
       "    <tr>\n",
       "      <th>index</th>\n",
       "      <th></th>\n",
       "      <th></th>\n",
       "      <th></th>\n",
       "      <th></th>\n",
       "    </tr>\n",
       "  </thead>\n",
       "  <tbody>\n",
       "    <tr>\n",
       "      <th>2017-02-01</th>\n",
       "      <td>1.70</td>\n",
       "      <td>NaN</td>\n",
       "      <td>NaN</td>\n",
       "      <td>1.71</td>\n",
       "    </tr>\n",
       "    <tr>\n",
       "      <th>2017-02-02</th>\n",
       "      <td>1.65</td>\n",
       "      <td>1.70</td>\n",
       "      <td>-0.05</td>\n",
       "      <td>1.71</td>\n",
       "    </tr>\n",
       "    <tr>\n",
       "      <th>2017-02-03</th>\n",
       "      <td>1.65</td>\n",
       "      <td>1.65</td>\n",
       "      <td>0.00</td>\n",
       "      <td>1.71</td>\n",
       "    </tr>\n",
       "    <tr>\n",
       "      <th>2017-02-06</th>\n",
       "      <td>1.70</td>\n",
       "      <td>1.65</td>\n",
       "      <td>0.05</td>\n",
       "      <td>1.71</td>\n",
       "    </tr>\n",
       "    <tr>\n",
       "      <th>2017-02-07</th>\n",
       "      <td>1.80</td>\n",
       "      <td>1.70</td>\n",
       "      <td>0.10</td>\n",
       "      <td>1.71</td>\n",
       "    </tr>\n",
       "    <tr>\n",
       "      <th>...</th>\n",
       "      <td>...</td>\n",
       "      <td>...</td>\n",
       "      <td>...</td>\n",
       "      <td>...</td>\n",
       "    </tr>\n",
       "    <tr>\n",
       "      <th>2022-09-08</th>\n",
       "      <td>2.25</td>\n",
       "      <td>2.30</td>\n",
       "      <td>-0.05</td>\n",
       "      <td>1.98</td>\n",
       "    </tr>\n",
       "    <tr>\n",
       "      <th>2022-09-09</th>\n",
       "      <td>2.25</td>\n",
       "      <td>2.25</td>\n",
       "      <td>0.00</td>\n",
       "      <td>1.98</td>\n",
       "    </tr>\n",
       "    <tr>\n",
       "      <th>2022-09-12</th>\n",
       "      <td>2.30</td>\n",
       "      <td>2.25</td>\n",
       "      <td>0.05</td>\n",
       "      <td>1.98</td>\n",
       "    </tr>\n",
       "    <tr>\n",
       "      <th>2022-09-13</th>\n",
       "      <td>2.45</td>\n",
       "      <td>2.30</td>\n",
       "      <td>0.15</td>\n",
       "      <td>1.98</td>\n",
       "    </tr>\n",
       "    <tr>\n",
       "      <th>2022-09-14</th>\n",
       "      <td>2.40</td>\n",
       "      <td>2.45</td>\n",
       "      <td>-0.05</td>\n",
       "      <td>1.98</td>\n",
       "    </tr>\n",
       "  </tbody>\n",
       "</table>\n",
       "<p>1403 rows × 4 columns</p>\n",
       "</div>"
      ],
      "text/plain": [
       "            Settle  Previous  Change   MTD\n",
       "index                                     \n",
       "2017-02-01    1.70       NaN     NaN  1.71\n",
       "2017-02-02    1.65      1.70   -0.05  1.71\n",
       "2017-02-03    1.65      1.65    0.00  1.71\n",
       "2017-02-06    1.70      1.65    0.05  1.71\n",
       "2017-02-07    1.80      1.70    0.10  1.71\n",
       "...            ...       ...     ...   ...\n",
       "2022-09-08    2.25      2.30   -0.05  1.98\n",
       "2022-09-09    2.25      2.25    0.00  1.98\n",
       "2022-09-12    2.30      2.25    0.05  1.98\n",
       "2022-09-13    2.45      2.30    0.15  1.98\n",
       "2022-09-14    2.40      2.45   -0.05  1.98\n",
       "\n",
       "[1403 rows x 4 columns]"
      ]
     },
     "execution_count": 19,
     "metadata": {},
     "output_type": "execute_result"
    }
   ],
   "source": [
    "\n",
    "df"
   ]
  },
  {
   "cell_type": "code",
   "execution_count": 25,
   "id": "506d0be3",
   "metadata": {},
   "outputs": [
    {
     "data": {
      "text/plain": [
       "'2022-09-14'"
      ]
     },
     "execution_count": 25,
     "metadata": {},
     "output_type": "execute_result"
    }
   ],
   "source": [
    "(datetime.now() - timedelta(1)).strftime('%Y-%m-%d')"
   ]
  },
  {
   "cell_type": "code",
   "execution_count": 24,
   "id": "751c32be",
   "metadata": {},
   "outputs": [
    {
     "data": {
      "text/plain": [
       "None"
      ]
     },
     "metadata": {},
     "output_type": "display_data"
    }
   ],
   "source": []
  },
  {
   "cell_type": "code",
   "execution_count": null,
   "id": "c3def5ec",
   "metadata": {},
   "outputs": [],
   "source": []
  }
 ],
 "metadata": {
  "kernelspec": {
   "display_name": "Python 3 (ipykernel)",
   "language": "python",
   "name": "python3"
  },
  "language_info": {
   "codemirror_mode": {
    "name": "ipython",
    "version": 3
   },
   "file_extension": ".py",
   "mimetype": "text/x-python",
   "name": "python",
   "nbconvert_exporter": "python",
   "pygments_lexer": "ipython3",
   "version": "3.9.12"
  }
 },
 "nbformat": 4,
 "nbformat_minor": 5
}
